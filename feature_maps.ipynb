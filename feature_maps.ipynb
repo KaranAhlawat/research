{
 "cells": [
  {
   "cell_type": "markdown",
   "metadata": {},
   "source": [
    "# Feature Map Visualization\n",
    "\n",
    "This Python notebook just visualizes the feature maps produced by our CNN `cnn_v1.h5`.\n",
    "The first plot shows all the feature maps/extractors produced by the CNN.\n",
    "\n",
    "The second plot shows the features identified by the CNN on a positive image (pothole image).\n",
    "The third plot shows the features identified by the CNN on a negative image (normal road)."
   ]
  },
  {
   "cell_type": "code",
   "execution_count": 1,
   "metadata": {},
   "outputs": [
    {
     "name": "stderr",
     "output_type": "stream",
     "text": [
      "2022-08-05 11:42:18.729044: W tensorflow/stream_executor/platform/default/dso_loader.cc:64] Could not load dynamic library 'libcudart.so.11.0'; dlerror: libcudart.so.11.0: cannot open shared object file: No such file or directory\n",
      "2022-08-05 11:42:18.729087: I tensorflow/stream_executor/cuda/cudart_stub.cc:29] Ignore above cudart dlerror if you do not have a GPU set up on your machine.\n"
     ]
    }
   ],
   "source": [
    "from keras import models\n",
    "from keras_preprocessing import image\n",
    "from matplotlib import pyplot as plt\n",
    "from numpy import expand_dims"
   ]
  },
  {
   "cell_type": "code",
   "execution_count": 2,
   "metadata": {},
   "outputs": [
    {
     "name": "stderr",
     "output_type": "stream",
     "text": [
      "2022-08-05 11:42:22.375083: I tensorflow/stream_executor/cuda/cuda_gpu_executor.cc:975] successful NUMA node read from SysFS had negative value (-1), but there must be at least one NUMA node, so returning NUMA node zero\n",
      "2022-08-05 11:42:22.375390: W tensorflow/stream_executor/platform/default/dso_loader.cc:64] Could not load dynamic library 'libcudart.so.11.0'; dlerror: libcudart.so.11.0: cannot open shared object file: No such file or directory\n",
      "2022-08-05 11:42:22.375431: W tensorflow/stream_executor/platform/default/dso_loader.cc:64] Could not load dynamic library 'libcublas.so.11'; dlerror: libcublas.so.11: cannot open shared object file: No such file or directory\n",
      "2022-08-05 11:42:22.375467: W tensorflow/stream_executor/platform/default/dso_loader.cc:64] Could not load dynamic library 'libcublasLt.so.11'; dlerror: libcublasLt.so.11: cannot open shared object file: No such file or directory\n",
      "2022-08-05 11:42:22.375502: W tensorflow/stream_executor/platform/default/dso_loader.cc:64] Could not load dynamic library 'libcufft.so.10'; dlerror: libcufft.so.10: cannot open shared object file: No such file or directory\n",
      "2022-08-05 11:42:22.375537: W tensorflow/stream_executor/platform/default/dso_loader.cc:64] Could not load dynamic library 'libcurand.so.10'; dlerror: libcurand.so.10: cannot open shared object file: No such file or directory\n",
      "2022-08-05 11:42:22.375572: W tensorflow/stream_executor/platform/default/dso_loader.cc:64] Could not load dynamic library 'libcusolver.so.11'; dlerror: libcusolver.so.11: cannot open shared object file: No such file or directory\n",
      "2022-08-05 11:42:22.375606: W tensorflow/stream_executor/platform/default/dso_loader.cc:64] Could not load dynamic library 'libcusparse.so.11'; dlerror: libcusparse.so.11: cannot open shared object file: No such file or directory\n",
      "2022-08-05 11:42:22.375641: W tensorflow/stream_executor/platform/default/dso_loader.cc:64] Could not load dynamic library 'libcudnn.so.8'; dlerror: libcudnn.so.8: cannot open shared object file: No such file or directory\n",
      "2022-08-05 11:42:22.375648: W tensorflow/core/common_runtime/gpu/gpu_device.cc:1850] Cannot dlopen some GPU libraries. Please make sure the missing libraries mentioned above are installed properly if you would like to use GPU. Follow the guide at https://www.tensorflow.org/install/gpu for how to download and setup the required libraries for your platform.\n",
      "Skipping registering GPU devices...\n",
      "2022-08-05 11:42:22.375939: I tensorflow/core/platform/cpu_feature_guard.cc:193] This TensorFlow binary is optimized with oneAPI Deep Neural Network Library (oneDNN) to use the following CPU instructions in performance-critical operations:  AVX2 FMA\n",
      "To enable them in other operations, rebuild TensorFlow with the appropriate compiler flags.\n"
     ]
    }
   ],
   "source": [
    "model = models.load_model('cnn_v1.h5')"
   ]
  },
  {
   "cell_type": "code",
   "execution_count": 3,
   "metadata": {},
   "outputs": [
    {
     "name": "stdout",
     "output_type": "stream",
     "text": [
      "conv2d (3, 3, 3, 32)\n",
      "conv2d_1 (3, 3, 32, 32)\n"
     ]
    }
   ],
   "source": [
    "for layer in model.layers:\n",
    "    if 'conv' not in layer.name:\n",
    "        continue\n",
    "    filters, biases = layer.get_weights()\n",
    "    print(layer.name, filters.shape)"
   ]
  },
  {
   "cell_type": "code",
   "execution_count": 4,
   "metadata": {},
   "outputs": [
    {
     "data": {
      "image/png": "[encoded data removed]",
      "text/plain": [
       "<Figure size 432x288 with 18 Axes>"
      ]
     },
     "metadata": {},
     "output_type": "display_data"
    }
   ],
   "source": [
    "filters, biases = model.layers[0].get_weights()\n",
    "f_min, f_max = filters.min(), filters.max()\n",
    "\n",
    "filters = (filters - f_min) / (f_max - f_min)\n",
    "\n",
    "n_filters, ix = 6, 1\n",
    "\n",
    "for i in range(n_filters):\n",
    "    f = filters[:, :, :, i]\n",
    "\n",
    "    for j in range(3):\n",
    "        ax = plt.subplot(n_filters, 3, ix)\n",
    "        ax.set_xticks([])\n",
    "        ax.set_yticks([])\n",
    "        plt.imshow(f[:, :, j], cmap='gnuplot')\n",
    "        ix += 1\n",
    "\n",
    "plt.show()"
   ]
  },
  {
   "cell_type": "code",
   "execution_count": 6,
   "metadata": {},
   "outputs": [
    {
     "name": "stdout",
     "output_type": "stream",
     "text": [
      "1/1 [==============================] - 0s 69ms/step\n"
     ]
    },
    {
     "data": {
      "image/png": "[encoded data removed]",
      "text/plain": [
       "<Figure size 432x288 with 3 Axes>"
      ]
     },
     "metadata": {},
     "output_type": "display_data"
    }
   ],
   "source": [
    "ixs = [0, 2, 4]\n",
    "\n",
    "outputs = [model.layers[i].output for i in ixs]\n",
    "model = models.Model(inputs=model.inputs, outputs=outputs)\n",
    "\n",
    "img = image.load_img('data/test/pothole.jpeg', target_size=(64, 64))\n",
    "img = image.img_to_array(img)\n",
    "img = expand_dims(img, axis=0)\n",
    "\n",
    "feature_maps = model.predict(img)\n",
    "\n",
    "square = 3\n",
    "for fmap in feature_maps:\n",
    "    ix = 1\n",
    "    for _ in range(square):\n",
    "        ax = plt.subplot(4, 4, ix)\n",
    "        ax.set_xticks([])\n",
    "        ax.set_yticks([])\n",
    "        # print(fmap.shape)\n",
    "        plt.imshow(fmap[0, :, :, ix - 1], cmap='gnuplot')\n",
    "        ix += 1\n",
    "\n",
    "plt.show()"
   ]
  },
  {
   "cell_type": "code",
   "execution_count": 7,
   "metadata": {},
   "outputs": [
    {
     "name": "stdout",
     "output_type": "stream",
     "text": [
      "1/1 [==============================] - 0s 38ms/step\n"
     ]
    },
    {
     "data": {
      "image/png": "[encoded data removed]",
      "text/plain": [
       "<Figure size 432x288 with 3 Axes>"
      ]
     },
     "metadata": {},
     "output_type": "display_data"
    }
   ],
   "source": [
    "ixs = [0, 2, 4]\n",
    "\n",
    "outputs = [model.layers[i].output for i in ixs]\n",
    "model = models.Model(inputs=model.inputs, outputs=outputs)\n",
    "\n",
    "img = image.load_img('data/test/normal.jpg', target_size=(64, 64))\n",
    "img = image.img_to_array(img)\n",
    "img = expand_dims(img, axis=0)\n",
    "\n",
    "feature_maps = model.predict(img)\n",
    "\n",
    "square = 3\n",
    "for fmap in feature_maps:\n",
    "    ix = 1\n",
    "    for _ in range(square):\n",
    "        ax = plt.subplot(4, 4, ix)\n",
    "        ax.set_xticks([])\n",
    "        ax.set_yticks([])\n",
    "        # print(fmap.shape)\n",
    "        plt.imshow(fmap[0, :, :, ix - 1], cmap='gnuplot')\n",
    "        ix += 1\n",
    "\n",
    "plt.show()"
   ]
  }
 ],
 "metadata": {
  "kernelspec": {
   "display_name": "Python 3.10.5 ('ml-9_V4PZR--py3.10')",
   "language": "python",
   "name": "python3"
  },
  "language_info": {
   "codemirror_mode": {
    "name": "ipython",
    "version": 3
   },
   "file_extension": ".py",
   "mimetype": "text/x-python",
   "name": "python",
   "nbconvert_exporter": "python",
   "pygments_lexer": "ipython3",
   "version": "3.10.5"
  },
  "orig_nbformat": 4,
  "vscode": {
   "interpreter": {
    "hash": "1fc1d2d3ada01831d5e8b833c7612b6419ba4b6eb4a5c45125967b12be37ff10"
   }
  }
 },
 "nbformat": 4,
 "nbformat_minor": 2
}
